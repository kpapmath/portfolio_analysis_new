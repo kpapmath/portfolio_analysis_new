{
 "cells": [
  {
   "metadata": {
    "ExecuteTime": {
     "end_time": "2024-11-15T10:28:28.522522Z",
     "start_time": "2024-11-15T10:28:28.519027Z"
    }
   },
   "cell_type": "code",
   "source": [
    "import yfinance as yf\n",
    "import numpy as np\n",
    "import pandas as pd\n",
    "from scipy.optimize import minimize\n",
    "import matplotlib.pyplot as plt\n"
   ],
   "id": "68b814536afde0d6",
   "outputs": [],
   "execution_count": 15
  },
  {
   "metadata": {
    "ExecuteTime": {
     "end_time": "2024-11-15T10:28:28.644861Z",
     "start_time": "2024-11-15T10:28:28.543789Z"
    }
   },
   "cell_type": "code",
   "source": [
    "# Step 1: Fetch historical data for selected assets\n",
    "# Assets chosen: 10-year Treasury bond (proxy for bonds), gold (GLD), Bitcoin (BTC-USD), and real estate (VNQ)\n",
    "assets = [\"^TNX\", \"GLD\", \"BTC-USD\", \"VNQ\"]\n",
    "data = yf.download(assets, start=\"2018-01-01\", end=\"2023-01-01\")['Adj Close']\n"
   ],
   "id": "d05b01ad6d526326",
   "outputs": [
    {
     "name": "stderr",
     "output_type": "stream",
     "text": [
      "[*********************100%***********************]  4 of 4 completed\n"
     ]
    }
   ],
   "execution_count": 16
  },
  {
   "metadata": {
    "ExecuteTime": {
     "end_time": "2024-11-15T10:28:28.655319Z",
     "start_time": "2024-11-15T10:28:28.647828Z"
    }
   },
   "cell_type": "code",
   "source": [
    "# Step 2: Calculate daily returns from the price data\n",
    "# Percentage change is calculated to represent daily returns\n",
    "returns = data.pct_change().dropna()\n"
   ],
   "id": "359f67a8d5b1dbd9",
   "outputs": [
    {
     "name": "stderr",
     "output_type": "stream",
     "text": [
      "/var/folders/s_/c_0m6c452k1g0x0q31jth99c0000gn/T/ipykernel_63842/68316138.py:3: FutureWarning: The default fill_method='pad' in DataFrame.pct_change is deprecated and will be removed in a future version. Either fill in any non-leading NA values prior to calling pct_change or specify 'fill_method=None' to not fill NA values.\n",
      "  returns = data.pct_change().dropna()\n"
     ]
    }
   ],
   "execution_count": 17
  },
  {
   "metadata": {
    "ExecuteTime": {
     "end_time": "2024-11-15T10:28:28.661961Z",
     "start_time": "2024-11-15T10:28:28.657715Z"
    }
   },
   "cell_type": "code",
   "source": [
    "# Step 3: Simulate a \"Private Credit\" asset\n",
    "# Generate synthetic returns for Private Credit as a low-volatility, stable asset\n",
    "np.random.seed(0)  # Ensure reproducibility of results\n",
    "private_credit_returns = np.random.normal(0.00015, 0.001, len(returns))  # ~0.015% mean daily return\n",
    "returns['Private Credit'] = private_credit_returns\n"
   ],
   "id": "ef068b9015071d4b",
   "outputs": [],
   "execution_count": 18
  },
  {
   "metadata": {
    "ExecuteTime": {
     "end_time": "2024-11-15T10:28:28.673449Z",
     "start_time": "2024-11-15T10:28:28.667530Z"
    }
   },
   "cell_type": "code",
   "source": [
    "# Step 4: Calculate annualized returns and the covariance matrix\n",
    "# Annualized returns assume 252 trading days in a year\n",
    "mean_returns = returns.mean() * 252  # Mean daily returns annualized\n",
    "cov_matrix = returns.cov() * 252    # Covariance matrix annualized\n",
    "\n",
    "# Set the risk-free rate (e.g., yield on a risk-free asset like Treasury bonds)\n",
    "risk_free_rate = 0.02  # 2% annualized risk-free return\n",
    "\n",
    "# Define target return and volatility to mimic an S&P 500-like risk profile\n",
    "target_volatility = 0.178  # ~17% annualized volatility\n",
    "target_return = 0.11      # ~11% annualized return\n"
   ],
   "id": "a8f8d33ec1814554",
   "outputs": [],
   "execution_count": 19
  },
  {
   "metadata": {
    "ExecuteTime": {
     "end_time": "2024-11-15T10:28:28.681695Z",
     "start_time": "2024-11-15T10:28:28.675269Z"
    }
   },
   "cell_type": "code",
   "source": [
    "# Step 5: Define a function to calculate portfolio performance\n",
    "def portfolio_performance(weights, mean_returns, cov_matrix):\n",
    "    \"\"\"\n",
    "    Calculate portfolio return and volatility for a given set of weights.\n",
    "    \"\"\"\n",
    "    returns = np.sum(mean_returns * weights)  # Weighted average return\n",
    "    volatility = np.sqrt(np.dot(weights.T, np.dot(cov_matrix, weights)))  # Portfolio volatility\n",
    "    return returns, volatility\n",
    "\n",
    "# Step 6: Define the objective function for optimization\n",
    "def objective_function(weights, mean_returns, cov_matrix, target_return, target_volatility):\n",
    "    \"\"\"\n",
    "    Objective function to maximize the Sharpe ratio while penalizing concentration.\n",
    "    \"\"\"\n",
    "    # Calculate portfolio returns and volatility\n",
    "    returns, volatility = portfolio_performance(weights, mean_returns, cov_matrix)\n",
    "\n",
    "    # Calculate Sharpe ratio\n",
    "    sharpe_ratio = (returns - risk_free_rate) / volatility\n",
    "\n",
    "    # Add a concentration penalty to avoid over-concentration in a few assets\n",
    "    concentration_penalty = np.sum(weights**2)  # Penalizes high concentration\n",
    "    penalty_factor = 10  # Adjustable factor for the penalty strength\n",
    "\n",
    "    # Return the negative of the Sharpe ratio (we're minimizing)\n",
    "    return -sharpe_ratio + penalty_factor * concentration_penalty\n"
   ],
   "id": "9d0c346824ad90c2",
   "outputs": [],
   "execution_count": 20
  },
  {
   "metadata": {
    "ExecuteTime": {
     "end_time": "2024-11-15T10:28:28.689480Z",
     "start_time": "2024-11-15T10:28:28.684341Z"
    }
   },
   "cell_type": "code",
   "source": [
    "# Step 7: Define constraints\n",
    "constraints = (\n",
    "    {'type': 'eq', 'fun': lambda x: np.sum(x) - 1},  # Weights must sum to 1\n",
    "    {'type': 'ineq', 'fun': lambda x: target_return - np.sum(mean_returns * x)},  # Return >= target return\n",
    "    {'type': 'ineq', 'fun': lambda x: target_volatility - np.sqrt(np.dot(x.T, np.dot(cov_matrix, x)))},  # Volatility <= target volatility\n",
    ")\n"
   ],
   "id": "49a86ed44f1101fd",
   "outputs": [],
   "execution_count": 21
  },
  {
   "metadata": {
    "ExecuteTime": {
     "end_time": "2024-11-15T10:28:28.695353Z",
     "start_time": "2024-11-15T10:28:28.691387Z"
    }
   },
   "cell_type": "code",
   "source": [
    "# Step 8: Define initial guess and bounds for optimization\n",
    "num_assets = len(mean_returns)\n",
    "initial_guess = num_assets * [1. / num_assets,]  # Equal allocation as the starting point\n",
    "bounds = tuple((0, 1) for _ in range(num_assets))  # Long-only portfolio (weights between 0 and 1)\n"
   ],
   "id": "3d760db8db3a8927",
   "outputs": [],
   "execution_count": 22
  },
  {
   "metadata": {
    "ExecuteTime": {
     "end_time": "2024-11-15T10:28:28.717286Z",
     "start_time": "2024-11-15T10:28:28.697266Z"
    }
   },
   "cell_type": "code",
   "source": [
    "# Step 9: Perform the optimization\n",
    "result = minimize(\n",
    "    objective_function,\n",
    "    initial_guess,\n",
    "    args=(mean_returns, cov_matrix, target_return, target_volatility),\n",
    "    method='SLSQP',\n",
    "    constraints=constraints\n",
    ")\n"
   ],
   "id": "7f17b893b253c275",
   "outputs": [],
   "execution_count": 23
  },
  {
   "metadata": {
    "ExecuteTime": {
     "end_time": "2024-11-15T10:28:28.723633Z",
     "start_time": "2024-11-15T10:28:28.719570Z"
    }
   },
   "cell_type": "code",
   "source": [
    "# Extract the optimized weights\n",
    "optimized_weights = result.x\n",
    "\n",
    "# Step 10: Calculate portfolio performance with optimized weights\n",
    "opt_returns, opt_volatility = portfolio_performance(optimized_weights, mean_returns, cov_matrix)\n",
    "opt_sharpe_ratio = (opt_returns - risk_free_rate) / opt_volatility\n"
   ],
   "id": "557f5a747f65eb18",
   "outputs": [],
   "execution_count": 24
  },
  {
   "metadata": {
    "ExecuteTime": {
     "end_time": "2024-11-15T10:28:28.735600Z",
     "start_time": "2024-11-15T10:28:28.729481Z"
    }
   },
   "cell_type": "code",
   "source": [
    "# Additional Risk Metrics\n",
    "def calculate_value_at_risk(returns, weights, confidence_level=0.95):\n",
    "    \"\"\"\n",
    "    Calculate Value at Risk (VaR) at a given confidence level.\n",
    "    \"\"\"\n",
    "    portfolio_returns = returns.dot(weights)\n",
    "    var = -np.percentile(portfolio_returns, (1 - confidence_level) * 100)\n",
    "    return var\n",
    "\n",
    "def calculate_cvar(returns, weights, confidence_level=0.95):\n",
    "    \"\"\"\n",
    "    Calculate Conditional Value at Risk (CVaR).\n",
    "    \"\"\"\n",
    "    portfolio_returns = returns.dot(weights)\n",
    "    var = calculate_value_at_risk(returns, weights, confidence_level)\n",
    "    cvar = -portfolio_returns[portfolio_returns <= -var].mean()\n",
    "    return cvar\n",
    "\n",
    "def calculate_max_drawdown(portfolio_returns):\n",
    "    \"\"\"\n",
    "    Calculate the maximum drawdown of the portfolio.\n",
    "    \"\"\"\n",
    "    cumulative_returns = (1 + portfolio_returns).cumprod()\n",
    "    peak = cumulative_returns.cummax()\n",
    "    drawdown = (cumulative_returns - peak) / peak\n",
    "    max_drawdown = drawdown.min()\n",
    "    return max_drawdown\n"
   ],
   "id": "8ccffe0e4c088f3",
   "outputs": [],
   "execution_count": 25
  },
  {
   "metadata": {
    "ExecuteTime": {
     "end_time": "2024-11-15T10:28:28.743886Z",
     "start_time": "2024-11-15T10:28:28.737745Z"
    }
   },
   "cell_type": "code",
   "source": [
    "# Calculate additional risk metrics\n",
    "portfolio_returns = returns.dot(optimized_weights)  # Portfolio daily returns\n",
    "value_at_risk = calculate_value_at_risk(returns, optimized_weights)\n",
    "conditional_var = calculate_cvar(returns, optimized_weights)\n",
    "max_drawdown = calculate_max_drawdown(portfolio_returns)\n"
   ],
   "id": "ceb6643ec16aa1e1",
   "outputs": [],
   "execution_count": 26
  },
  {
   "metadata": {
    "ExecuteTime": {
     "end_time": "2024-11-15T10:28:28.756287Z",
     "start_time": "2024-11-15T10:28:28.747497Z"
    }
   },
   "cell_type": "code",
   "source": [
    "# Display optimized weights and portfolio performance\n",
    "portfolio_weights = pd.DataFrame({'Asset': mean_returns.index, 'Weight': optimized_weights})\n",
    "print(\"Optimized Portfolio Weights:\")\n",
    "print(portfolio_weights)\n",
    "print(\"\\nExpected Annual Return:\", round(opt_returns * 100, 2), \"%\")\n",
    "print(\"Expected Annual Volatility:\", round(opt_volatility * 100, 2), \"%\")\n",
    "print(\"Sharpe Ratio:\", round(opt_sharpe_ratio, 2))\n",
    "print(\"Value at Risk (95%):\", round(value_at_risk, 4))\n",
    "print(\"Conditional VaR (95%):\", round(conditional_var, 4))\n",
    "print(\"Maximum Drawdown:\", round(max_drawdown, 4))\n"
   ],
   "id": "d813461c24970d5",
   "outputs": [
    {
     "name": "stdout",
     "output_type": "stream",
     "text": [
      "Optimized Portfolio Weights:\n",
      "            Asset    Weight\n",
      "0         BTC-USD  0.190365\n",
      "1             GLD  0.207121\n",
      "2             VNQ  0.193629\n",
      "3            ^TNX  0.204854\n",
      "4  Private Credit  0.204032\n",
      "\n",
      "Expected Annual Return: 10.45 %\n",
      "Expected Annual Volatility: 17.44 %\n",
      "Sharpe Ratio: 0.48\n",
      "Value at Risk (95%): 0.0153\n",
      "Conditional VaR (95%): 0.0251\n",
      "Maximum Drawdown: -0.2901\n"
     ]
    }
   ],
   "execution_count": 27
  },
  {
   "metadata": {
    "ExecuteTime": {
     "end_time": "2024-11-15T10:28:28.953126Z",
     "start_time": "2024-11-15T10:28:28.769466Z"
    }
   },
   "cell_type": "code",
   "source": [
    "# Visualization: Plot pie chart of asset allocation\n",
    "plt.figure(figsize=(10, 6))\n",
    "plt.pie(optimized_weights, labels=mean_returns.index, autopct='%1.1f%%', startangle=140)\n",
    "plt.title(\"Optimized Portfolio Asset Allocation\")\n",
    "plt.show()\n"
   ],
   "id": "c9b02ebaca9643fe",
   "outputs": [
    {
     "data": {
      "text/plain": [
       "<Figure size 1000x600 with 1 Axes>"
      ],
      "image/png": "[encoded data removed]"
     },
     "metadata": {},
     "output_type": "display_data"
    }
   ],
   "execution_count": 28
  }
 ],
 "metadata": {
  "kernelspec": {
   "display_name": "Python 3",
   "language": "python",
   "name": "python3"
  },
  "language_info": {
   "codemirror_mode": {
    "name": "ipython",
    "version": 2
   },
   "file_extension": ".py",
   "mimetype": "text/x-python",
   "name": "python",
   "nbconvert_exporter": "python",
   "pygments_lexer": "ipython2",
   "version": "2.7.6"
  }
 },
 "nbformat": 4,
 "nbformat_minor": 5
}
